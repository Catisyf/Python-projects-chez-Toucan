{
  "nbformat": 4,
  "nbformat_minor": 0,
  "metadata": {
    "colab": {
      "name": "back_fill_text_data",
      "provenance": [],
      "collapsed_sections": [],
      "include_colab_link": true
    },
    "kernelspec": {
      "display_name": "Python 3",
      "name": "python3"
    }
  },
  "cells": [
    {
      "cell_type": "markdown",
      "metadata": {
        "id": "view-in-github",
        "colab_type": "text"
      },
      "source": [
        "<a href=\"https://colab.research.google.com/github/Catisyf/NLP_project_chez_Toucan/blob/main/back_fill_text_data.ipynb\" target=\"_parent\"><img src=\"https://colab.research.google.com/assets/colab-badge.svg\" alt=\"Open In Colab\"/></a>"
      ]
    },
    {
      "cell_type": "code",
      "metadata": {
        "id": "pVZPHERqJhuF",
        "colab": {
          "base_uri": "https://localhost:8080/"
        },
        "outputId": "32011fa9-97fd-4d19-e28c-e67d1bee8e03"
      },
      "source": [
        "from google.colab import drive\n",
        "drive.mount('/content/drive')"
      ],
      "execution_count": null,
      "outputs": [
        {
          "output_type": "stream",
          "name": "stdout",
          "text": [
            "Mounted at /content/drive\n"
          ]
        }
      ]
    },
    {
      "cell_type": "code",
      "metadata": {
        "id": "tAv_r6lsBGrL"
      },
      "source": [
        "pip install -U sentence-transformers #sentence-transformers model"
      ],
      "execution_count": null,
      "outputs": []
    },
    {
      "cell_type": "code",
      "metadata": {
        "id": "e2jgY2AVtUn_"
      },
      "source": [
        "pip install Faker #create fake data "
      ],
      "execution_count": null,
      "outputs": []
    },
    {
      "cell_type": "code",
      "metadata": {
        "id": "nCsWMPU7tliw",
        "colab": {
          "base_uri": "https://localhost:8080/"
        },
        "outputId": "b8d48142-642b-40cc-8a5f-0bcd7641b2e4"
      },
      "source": [
        "!ls '/content/drive/My Drive/crm_contacts.csv'"
      ],
      "execution_count": null,
      "outputs": [
        {
          "output_type": "stream",
          "name": "stdout",
          "text": [
            "'/content/drive/My Drive/crm_contacts.csv'\n"
          ]
        }
      ]
    },
    {
      "cell_type": "code",
      "metadata": {
        "id": "wdIrx5mWuiHN"
      },
      "source": [
        "import pandas as pd\n",
        "import numpy as np\n",
        "import re\n",
        "from scipy import spatial\n",
        "from collections import Counter \n",
        "from faker import Faker"
      ],
      "execution_count": null,
      "outputs": []
    },
    {
      "cell_type": "code",
      "metadata": {
        "id": "bYXM4tsd2_wG"
      },
      "source": [
        "df_contacts = pd.read_csv('/content/drive/My Drive/crm_contacts.csv', na_values=' ') #replace blank cells with na\n",
        "df_persona = pd.read_csv('/content/drive/My Drive/buyer_persona_definition.csv')"
      ],
      "execution_count": null,
      "outputs": []
    },
    {
      "cell_type": "markdown",
      "metadata": {
        "id": "ABSwcWFIbzzG"
      },
      "source": [
        "## **Data Preparation**\n",
        "- Step 1. Remove data points with null values as well as auto-filled job titles. \n",
        "- Step 2. Apply pre-defined functions to remove stop words and special characters."
      ]
    },
    {
      "cell_type": "code",
      "metadata": {
        "id": "OCU_wEVOciYM"
      },
      "source": [
        "df_contacts = df_contacts.replace('?', 'np.Nan').dropna() #remove null"
      ],
      "execution_count": null,
      "outputs": []
    },
    {
      "cell_type": "code",
      "metadata": {
        "id": "Ww2zFsoZ40TK"
      },
      "source": [
        "#remove auto-filled job titles\n",
        "df_contacts = df_contacts[~df_contacts.jobtitle.str.contains('(site)|(try-for-free)')] #add or remove keywords here if necessary"
      ],
      "execution_count": null,
      "outputs": []
    },
    {
      "cell_type": "code",
      "metadata": {
        "id": "akz3k8mwUaVA"
      },
      "source": [
        "#create stopwords list\n",
        "#swtich to stopwords corpus when processing complex text data (check nltk or spaCy)\n",
        "stopwords = ['of', 'de', 'De', 'du', 'for', 'For', 'the', 'et', \"d’\"] #add or remove stop words here if neccessary \n",
        "space = ' '"
      ],
      "execution_count": null,
      "outputs": []
    },
    {
      "cell_type": "code",
      "source": [
        "#function to remove stopwords from job title\n",
        "def remove_stopwords (df_column):\n",
        "    clean = [space.join([word for word in name.split() \\\n",
        "                         if word not in stopwords]) \\\n",
        "             for name in df_column]\n",
        "    return clean"
      ],
      "metadata": {
        "id": "t67-vAVe2yZE"
      },
      "execution_count": null,
      "outputs": []
    },
    {
      "cell_type": "code",
      "metadata": {
        "id": "CrkRl7iFASTN"
      },
      "source": [
        "#function to remove special characters from job title\n",
        "def remove_sign(df_column):\n",
        "  clean = [re.sub('[|!@#$-.&/_+={}()]', ' ', text) for text in df_column] #add or remove signs here if necessary\n",
        "  return clean"
      ],
      "execution_count": null,
      "outputs": []
    },
    {
      "cell_type": "code",
      "metadata": {
        "id": "upPTxYr_0ioU"
      },
      "source": [
        "#add cleaned job title to datasets\n",
        "df_persona['clean_title'] = remove_stopwords(df_persona['job_title'])\n",
        "df_contacts['clean_title'] = remove_stopwords(df_contacts['jobtitle'])"
      ],
      "execution_count": null,
      "outputs": []
    },
    {
      "cell_type": "code",
      "metadata": {
        "id": "85EUlBEQB0df"
      },
      "source": [
        "df_persona['clean_title'] = remove_sign(df_persona['clean_title'])\n",
        "df_contacts['clean_title'] = remove_sign(df_contacts['clean_title'])"
      ],
      "execution_count": null,
      "outputs": []
    },
    {
      "cell_type": "markdown",
      "metadata": {
        "id": "oSjeVkhSFmEp"
      },
      "source": [
        "## **NLP model for matching**"
      ]
    },
    {
      "cell_type": "code",
      "metadata": {
        "id": "UXNykcb7Ge4G"
      },
      "source": [
        "#load pre-trained sentence transformer model\n",
        "from sentence_transformers import SentenceTransformer\n",
        "model = SentenceTransformer('distiluse-base-multilingual-cased-v1')"
      ],
      "execution_count": null,
      "outputs": []
    },
    {
      "cell_type": "code",
      "metadata": {
        "id": "yFOr_rmNZNg-"
      },
      "source": [
        "#function to vectorize job title\n",
        "#use the broadcasting function in numpy array to speed up processing: reduced run time to half\n",
        "def text_vectorizer (df_column):\n",
        "  vector = model.encode(df_column.values)\n",
        "  \n",
        "  return vector.tolist()"
      ],
      "execution_count": null,
      "outputs": []
    },
    {
      "cell_type": "code",
      "metadata": {
        "id": "dFBntsr_2ReF"
      },
      "source": [
        "#add vector to datasets\n",
        "df_persona['vector'] = text_vectorizer (df_persona['clean_title'])\n",
        "df_contacts['vector'] = text_vectorizer (df_contacts['clean_title'])"
      ],
      "execution_count": null,
      "outputs": []
    },
    {
      "cell_type": "code",
      "metadata": {
        "id": "_kc5aMIiJ7i9"
      },
      "source": [
        "#reset index \n",
        "df_contacts = df_contacts.reset_index(drop = True)"
      ],
      "execution_count": null,
      "outputs": []
    },
    {
      "cell_type": "code",
      "metadata": {
        "id": "BqNmM38sfuSt"
      },
      "source": [
        "#function to calculate cosine similarity\n",
        "def cosine_similarity(v1,v2):\n",
        "  return 1-spatial.distance.cosine(v1, v2)"
      ],
      "execution_count": null,
      "outputs": []
    },
    {
      "cell_type": "code",
      "metadata": {
        "id": "KhrcygP-mfQ8"
      },
      "source": [
        "#function to find a match for each job title in CRM data using the max value of cosine similarity \n",
        "\n",
        "def get_matches(df_column_1, df_column_2):\n",
        "  similarity = {}\n",
        "  i = 0\n",
        "  for vec1 in df_column_1:\n",
        "    similarity_persona = [cosine_similarity(vec1, vec2) for vec2 in df_column2]\n",
        "    \n",
        "    max_similiarity = max(similarity_persona)\n",
        "    persona_id = similarity_persona.index(max_similiarity) \n",
        "    similarity[i] = [max_similiarity, persona_id]\n",
        "    i += 1\n",
        "  \n",
        "  return similarity"
      ],
      "execution_count": null,
      "outputs": []
    },
    {
      "cell_type": "code",
      "metadata": {
        "id": "8Uq_y4sQ3Lfm"
      },
      "source": [
        "table = pd.DataFrame.from_dict(get_matches(df_contacts['vector'], df_persona['vector']), orient = 'index')\n",
        "table.columns =['similarity_score', 'persona_job_index']"
      ],
      "execution_count": null,
      "outputs": []
    },
    {
      "cell_type": "code",
      "metadata": {
        "id": "qvigQuZn2Q7p"
      },
      "source": [
        "#join tables using index \n",
        "table_full = table.join(df_contacts[['jobtitle', 'email', 'vector']]\\\n",
        "                       ).merge(df_persona[['buyer_persona', 'job_title', 'vector']], \\\n",
        "                               left_on = 'persona_job_index', right_index = True)"
      ],
      "execution_count": null,
      "outputs": []
    },
    {
      "cell_type": "code",
      "metadata": {
        "id": "tBS5tO7-kGup"
      },
      "source": [
        "#rename table column\n",
        "table_full = table_full.rename(columns={'jobtitle': \"job_title_CRM\", 'job_title': 'job_title_toucan'})"
      ],
      "execution_count": null,
      "outputs": []
    },
    {
      "cell_type": "code",
      "metadata": {
        "id": "LQdaZ0MalDYu"
      },
      "source": [
        "#select useful columns\n",
        "table_full = table_full[['job_title_CRM', 'email', 'job_title_toucan', 'buyer_persona', 'similarity_score']]\n",
        "\n",
        "#filter high similarity score to get good matches \n",
        "table_good_score = table_full.query('similarity_score >= 0.85')\n",
        "\n",
        "#query filtered data\n",
        "table_filtered_results = table_full.query('similarity_score < 0.85')"
      ],
      "execution_count": null,
      "outputs": []
    },
    {
      "cell_type": "code",
      "metadata": {
        "id": "qhAHZ1cL5xUe"
      },
      "source": [
        "#create fake emails to anonymise confidential data\n",
        "faker = Faker()\n",
        "fake_email = [faker.company_email() for i in range(349)]\n",
        "table_good_score['email'] = fake_email"
      ],
      "execution_count": null,
      "outputs": []
    },
    {
      "cell_type": "code",
      "metadata": {
        "colab": {
          "base_uri": "https://localhost:8080/",
          "height": 424
        },
        "id": "IzH7lkeftAUo",
        "outputId": "35d7b34b-6535-4ba8-e1b4-92ae5384f78f"
      },
      "source": [
        "table_good_score"
      ],
      "execution_count": null,
      "outputs": [
        {
          "output_type": "execute_result",
          "data": {
            "text/html": [
              "<div>\n",
              "<style scoped>\n",
              "    .dataframe tbody tr th:only-of-type {\n",
              "        vertical-align: middle;\n",
              "    }\n",
              "\n",
              "    .dataframe tbody tr th {\n",
              "        vertical-align: top;\n",
              "    }\n",
              "\n",
              "    .dataframe thead th {\n",
              "        text-align: right;\n",
              "    }\n",
              "</style>\n",
              "<table border=\"1\" class=\"dataframe\">\n",
              "  <thead>\n",
              "    <tr style=\"text-align: right;\">\n",
              "      <th></th>\n",
              "      <th>job_title_CRM</th>\n",
              "      <th>email</th>\n",
              "      <th>job_title_toucan</th>\n",
              "      <th>buyer_persona</th>\n",
              "      <th>similarity_score</th>\n",
              "    </tr>\n",
              "  </thead>\n",
              "  <tbody>\n",
              "    <tr>\n",
              "      <th>4146</th>\n",
              "      <td>Founders</td>\n",
              "      <td>mnunez@woodward.com</td>\n",
              "      <td>Founder</td>\n",
              "      <td>Business Leader</td>\n",
              "      <td>0.902885</td>\n",
              "    </tr>\n",
              "    <tr>\n",
              "      <th>24</th>\n",
              "      <td>Manager of Sales</td>\n",
              "      <td>kiaracannon@thompson.com</td>\n",
              "      <td>Sales Director</td>\n",
              "      <td>Business Leader</td>\n",
              "      <td>0.932112</td>\n",
              "    </tr>\n",
              "    <tr>\n",
              "      <th>812</th>\n",
              "      <td>Sales Executive</td>\n",
              "      <td>amanda38@greene-lopez.net</td>\n",
              "      <td>Sales Director</td>\n",
              "      <td>Business Leader</td>\n",
              "      <td>0.917183</td>\n",
              "    </tr>\n",
              "    <tr>\n",
              "      <th>854</th>\n",
              "      <td>Vendor Manager</td>\n",
              "      <td>yatesanthony@cunningham-hood.com</td>\n",
              "      <td>Sales Director</td>\n",
              "      <td>Business Leader</td>\n",
              "      <td>0.920250</td>\n",
              "    </tr>\n",
              "    <tr>\n",
              "      <th>1907</th>\n",
              "      <td>Sales Manager</td>\n",
              "      <td>kelly66@boone-maldonado.com</td>\n",
              "      <td>Sales Director</td>\n",
              "      <td>Business Leader</td>\n",
              "      <td>0.936844</td>\n",
              "    </tr>\n",
              "    <tr>\n",
              "      <th>...</th>\n",
              "      <td>...</td>\n",
              "      <td>...</td>\n",
              "      <td>...</td>\n",
              "      <td>...</td>\n",
              "      <td>...</td>\n",
              "    </tr>\n",
              "    <tr>\n",
              "      <th>3241</th>\n",
              "      <td>Consultor de Business Intelligence</td>\n",
              "      <td>ericreyes@anderson.com</td>\n",
              "      <td>Consultant Business Intelligence</td>\n",
              "      <td>Practitioner</td>\n",
              "      <td>0.986818</td>\n",
              "    </tr>\n",
              "    <tr>\n",
              "      <th>5007</th>\n",
              "      <td>Expert Business Intelligence (Maltem Consulting)</td>\n",
              "      <td>tinamosley@rivers.info</td>\n",
              "      <td>Consultant Business Intelligence</td>\n",
              "      <td>Practitioner</td>\n",
              "      <td>0.869026</td>\n",
              "    </tr>\n",
              "    <tr>\n",
              "      <th>12371</th>\n",
              "      <td>Consultante Business Intelligence</td>\n",
              "      <td>robertsuarez@taylor.com</td>\n",
              "      <td>Consultant Business Intelligence</td>\n",
              "      <td>Practitioner</td>\n",
              "      <td>0.999221</td>\n",
              "    </tr>\n",
              "    <tr>\n",
              "      <th>16493</th>\n",
              "      <td>Consultante Pilotage &amp; Business Intelligencea</td>\n",
              "      <td>rasmussendanny@waller.com</td>\n",
              "      <td>Consultant Business Intelligence</td>\n",
              "      <td>Practitioner</td>\n",
              "      <td>0.896643</td>\n",
              "    </tr>\n",
              "    <tr>\n",
              "      <th>18677</th>\n",
              "      <td>Consultante Business Intelligence</td>\n",
              "      <td>klewis@clay.biz</td>\n",
              "      <td>Consultant Business Intelligence</td>\n",
              "      <td>Practitioner</td>\n",
              "      <td>0.999221</td>\n",
              "    </tr>\n",
              "  </tbody>\n",
              "</table>\n",
              "<p>349 rows × 5 columns</p>\n",
              "</div>"
            ],
            "text/plain": [
              "                                          job_title_CRM  ... similarity_score\n",
              "4146                                           Founders  ...         0.902885\n",
              "24                                     Manager of Sales  ...         0.932112\n",
              "812                                     Sales Executive  ...         0.917183\n",
              "854                                      Vendor Manager  ...         0.920250\n",
              "1907                                      Sales Manager  ...         0.936844\n",
              "...                                                 ...  ...              ...\n",
              "3241                 Consultor de Business Intelligence  ...         0.986818\n",
              "5007   Expert Business Intelligence (Maltem Consulting)  ...         0.869026\n",
              "12371                 Consultante Business Intelligence  ...         0.999221\n",
              "16493     Consultante Pilotage & Business Intelligencea  ...         0.896643\n",
              "18677                 Consultante Business Intelligence  ...         0.999221\n",
              "\n",
              "[349 rows x 5 columns]"
            ]
          },
          "metadata": {},
          "execution_count": 58
        }
      ]
    }
  ]
}